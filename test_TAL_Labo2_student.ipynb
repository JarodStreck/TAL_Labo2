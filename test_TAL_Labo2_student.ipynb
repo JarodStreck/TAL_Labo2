import spacy

# Load the best model (pipeline) into the variable `nlp2`
nlp2 = spacy.load("./myPOStagger1/model-best")

# Print the pipeline components
print(nlp2.pipe_names)

# Process a test phrase
doc21 = nlp2("this is a test phrase")

# Print the tokens with their POS tags
for token in doc21:
    print(token.text + " [" + token.pos_ + "]")

# Evaluate the POS tagger accuracy on the test data
tag_acc = nlp2.evaluate(test_data).get("tag_acc")

# Print the POS tagging accuracy
print("POS tagging accuracy:", tag_acc)