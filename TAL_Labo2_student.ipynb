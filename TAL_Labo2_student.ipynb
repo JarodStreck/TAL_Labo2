{
 "cells": [
  {
   "cell_type": "markdown",
   "metadata": {},
   "source": [
    "<img src=\"https://heig-vd.ch/docs/default-source/doc-global-newsletter/2020-slim.svg\" alt=\"HEIG-VD Logo\" width=\"100\" align=\"right\" /> \n",
    "\n",
    "# Cours TAL - Laboratoire 2<br/>*POS taggers* pour le français dans spaCy et NLTK\n",
    "\n",
    "**Objectif**\n",
    "\n",
    "Comparer l'étiqueteur morphosyntaxique français prêt-à-l'emploi de spaCy avec deux étiqueteurs entraînés, l'un dans spaCy et l'autre dans NLTK."
   ]
  },
  {
   "cell_type": "markdown",
   "metadata": {},
   "source": [
    "## 1. Installation et test de spaCy\n",
    "\n",
    "La boîte à outils spaCy est une librairie Python *open source* pour le TAL, dédiée à un usage en production. Les documents suivants vous seront utiles :\n",
    "* comment [installer](https://spacy.io/usage) spaCy\n",
    "* comment [télécharger un modèle](https://spacy.io/usage/models) pour une langue donnée (on appelle ces modèles des *trained pipelines* car ils enchaînent plusieurs traitements)\n",
    "* comment faire les [premiers pas](https://spacy.io/usage/spacy-101) dans l'utilisation de spaCy\n",
    "\n",
    "Veuillez installer spaCy, puis la *pipeline* pour le français appelée `fr_core_news_sm`.  Si vous utilisez *conda*, installez spaCy dans l'environnement du cours TAL."
   ]
  },
  {
   "cell_type": "code",
   "execution_count": 10,
   "metadata": {},
   "outputs": [],
   "source": [
    "import spacy\n",
    "nlp = spacy.load(\"fr_core_news_sm\") # charge la pipeline\n",
    "import tqdm # permet l'affichage d'une barre de progression"
   ]
  },
  {
   "cell_type": "markdown",
   "metadata": {},
   "source": [
    "**1a.** Une pipeline effectue un ensemble de traitements d'un texte en lui ajoutant des annotations.  Les traitements effectués par la pipeline `fr_core_news_sm` sont [documentés ici](https://spacy.io/models/fr#fr_core_news_sm).  La liste des traitements d'une pipeline figure dans son attribut `.pipe_names`.  On peut activer ou désactiver un traitement T avec, respectivement, les méthodes `.disable_pipe(T)` et `.enable_pipe(T)` appliquées à la pipeline.\n",
    "\n",
    "* Veuillez afficher les traitements disponibles dans la pipeline `fr_core_news_sm` chargée ci-dessus sous le nom de `nlp` .\n",
    "* Veuillez désactiver tous les traitements sauf `tok2vec` et `morphologizer` (on fait cela pour accélerer le traitement).\n",
    "* Vérifiez que la désactivation a bien fonctionné en affichant les traitements activés."
   ]
  },
  {
   "cell_type": "code",
   "execution_count": 2,
   "metadata": {},
   "outputs": [
    {
     "data": {
      "text/plain": [
       "['tok2vec', 'morphologizer']"
      ]
     },
     "execution_count": 2,
     "metadata": {},
     "output_type": "execute_result"
    }
   ],
   "source": [
    "# Veuillez écrire votre code ici.\n",
    "nlp.pipe_names\n",
    "nlp.disable_pipe(\"parser\")\n",
    "nlp.disable_pipe(\"attribute_ruler\")\n",
    "nlp.disable_pipe(\"lemmatizer\")\n",
    "nlp.disable_pipe(\"ner\")\n",
    "\n",
    "nlp.pipe_names\n"
   ]
  },
  {
   "cell_type": "code",
   "execution_count": 11,
   "metadata": {},
   "outputs": [],
   "source": [
    "from spacy.lang.fr.examples import sentences"
   ]
  },
  {
   "cell_type": "markdown",
   "metadata": {},
   "source": [
    "**1b.** L'objet `sentences` chargé ci-dessus contient une liste de phrases en français. \n",
    "\n",
    "* Veuillez afficher les deux premières phrases de `sentences`.\n",
    "* Veuillez analyser chacune de ces deux phrases avec la pipeline `nlp` puis afficher chaque token et son POS tag.\n",
    "    * indication : aidez-vous de la [documentation](https://spacy.io/models/fr#fr_core_news_sm) de `fr_core_news_sm`\n",
    "    * consigne d'affichage : indiquer le tag entre crochets après chaque token, comme ceci : Les \\[DET\\] robots \\[NOUN\\] ...\n",
    "    * note : la documentation détaillée du POS tagging dans spaCy est [disponible ici](https://spacy.io/usage/linguistic-features)\n",
    "* Veuillez commenter la tokenisation et les POS tags observés : vous semblent-ils corrects pour les deux phrases ?"
   ]
  },
  {
   "cell_type": "code",
   "execution_count": 4,
   "metadata": {},
   "outputs": [
    {
     "name": "stdout",
     "output_type": "stream",
     "text": [
      "Apple cherche à acheter une start-up anglaise pour 1 milliard de dollars\n",
      "Les voitures autonomes déplacent la responsabilité de l'assurance vers les constructeurs\n",
      "Apple [NOUN]\n",
      "cherche [NOUN]\n",
      "à [ADP]\n",
      "acheter [VERB]\n",
      "une [DET]\n",
      "start [NOUN]\n",
      "- [ADJ]\n",
      "up [ADJ]\n",
      "anglaise [NOUN]\n",
      "pour [ADP]\n",
      "1 [NUM]\n",
      "milliard [NOUN]\n",
      "de [ADP]\n",
      "dollars [NOUN]\n",
      "\n",
      "\n",
      "Les [DET]\n",
      "voitures [NOUN]\n",
      "autonomes [ADJ]\n",
      "déplacent [ADV]\n",
      "la [DET]\n",
      "responsabilité [NOUN]\n",
      "de [ADP]\n",
      "l' [DET]\n",
      "assurance [NOUN]\n",
      "vers [ADP]\n",
      "les [DET]\n",
      "constructeurs [NOUN]\n"
     ]
    }
   ],
   "source": [
    "# Veuillez écrire votre code et votre commentaire ici.\n",
    "print(sentences[0])\n",
    "print(sentences[1])\n",
    "\n",
    "doc0 = nlp(sentences[0])\n",
    "doc1 = nlp(sentences[1])\n",
    "for token in doc0:\n",
    "    print(token.text + \" [\" + token.pos_ + \"]\")\n",
    "print(\"\\n\")    \n",
    "for token in doc1:\n",
    "    print(token.text + \" [\" + token.pos_ + \"]\")\n",
    "\n",
    "# La tokenization semble correct a part pour le mot \"start-up\" qui est un anglissicme.\n",
    "# Le POS tagging est correct pour la deuxième phrase mais pas pour la première,par exemple il a mis le trait d'union comme un adjectif et\n",
    "# il a fait une erreur pour \"Apple\" qui est un nom propre et il a également taguer \"start-up\" comme un NOM et deux ADJ a cause de la tokenization."
   ]
  },
  {
   "cell_type": "markdown",
   "metadata": {},
   "source": [
    "## 2. Prise en main des données\n",
    "\n",
    "Les données sont fournies dans un format tabulaire dans l'archive `UD_French-GSD.zip` sur Cyberlearn.  Elles sont basées sur les données fournies par le projet [Universal Dependencies](https://github.com/UniversalDependencies/UD_French-GSD).  Leur format, appelé CoNLL-U, est [documenté ici](https://universaldependencies.org/format.html).  Veuillez placer les trois fichiers contenus dans l'archive dans un sous-dossier de ce notebook nommé `spacy_data`.\n",
    "\n",
    "Les trois fichiers contiennent des phrases en français annotées avec les POS tags :\n",
    "* le fichier `fr-ud-train.conllu` est destiné à l'entraînement\n",
    "* le fichier `fr-ud-dev.conllu` est destiné aux tests préliminaires et aux réglages des paramètres\n",
    "* le fichier `fr-ud-test.conllu` est destiné à l'évaluation finale.\n",
    "\n",
    "**2a.** En inspectant les fichiers avec un éditeur texte, veuillez déterminer dans quelle colonne se trouvent les *tokens* des textes originaux, et dans quelle colonne se trouvent leurs étiquettes morpho-syntaxiques correctes (*POS tags*).  Que contient la troisième colonne ?"
   ]
  },
  {
   "cell_type": "code",
   "execution_count": 6,
   "metadata": {},
   "outputs": [],
   "source": [
    "# Veuillez écrire vos réponses dans cette cellule.\n",
    "# Les tokens des textes originaux se trouve a la colonne 2\n",
    "# Les POS tags des textes originaux se trouve a la colonne 4\n",
    "# On retrouve les LEMMA (la racine) du mot a la colonne 3\n"
   ]
  },
  {
   "attachments": {},
   "cell_type": "markdown",
   "metadata": {},
   "source": [
    "**2b.** Veuillez convertir les trois fichiers de données en des fichiers binaires utilisables par spaCy, en utilisant la [commande 'convert' fournie par spaCy](https://spacy.io/api/cli#convert).  La commande est donnée ci-dessous, le premier dossier `./input_data` contient les 3 fichiers `.conllu` et le dossier `./spacy-data` contiendra les 3 résultats.\n",
    "\n",
    "* Veuillez exécuter la commande de conversion.\n",
    "* Combien de phrases environ (à 10 phrases près) contient chaque fichier (*train*, *dev*, *test*) ?  Observez la commande et son résultat pour répondre."
   ]
  },
  {
   "cell_type": "code",
   "execution_count": 5,
   "metadata": {},
   "outputs": [
    {
     "name": "stdout",
     "output_type": "stream",
     "text": [
      "\u001b[38;5;4mℹ Grouping every 10 sentences into a document.\u001b[0m\n",
      "\u001b[38;5;2m✔ Generated output file (148 documents): spacy_data\\fr-ud-dev.spacy\u001b[0m\n",
      "\u001b[38;5;4mℹ Grouping every 10 sentences into a document.\u001b[0m\n",
      "\u001b[38;5;2m✔ Generated output file (42 documents): spacy_data\\fr-ud-test.spacy\u001b[0m\n",
      "\u001b[38;5;4mℹ Grouping every 10 sentences into a document.\u001b[0m\n",
      "\u001b[38;5;2m✔ Generated output file (1456 documents):\n",
      "spacy_data\\fr-ud-train.spacy\u001b[0m\n"
     ]
    }
   ],
   "source": [
    "!python -m spacy convert ./input_data ./spacy_data --converter conllu  --n-sents 10 --lang fr"
   ]
  },
  {
   "cell_type": "code",
   "execution_count": 8,
   "metadata": {},
   "outputs": [],
   "source": [
    "# Veuillez indiquer les nombres de phrases ici.\n",
    "# Il y a 10 phrases par documents et 148 documents donc 1480 phrases pour le fichier dev\n",
    "# Il y a 10 phrases par documents et 42 documents donc 420 phrases pour le fichier test\n",
    "# Il y a 10 phrases par documents et 1456 documents donc 14'560 phrases pour le fichier train"
   ]
  },
  {
   "cell_type": "markdown",
   "metadata": {},
   "source": [
    "**2c**. Les données des fichiers convertis peuvent être chargées dans un objet de type `DocBin`.  Dans notre cas, un tel objet contient un ensemble de documents, chacun contenant 10 phrases.  Chaque document est un objet de type `Doc`.  Le code donné ci-dessous vous permet de charger les données de test et vous montre comment les afficher.\n",
    "\n",
    "* Veuillez stocker la première phrase des données de test dans une variable nommée `premiere_phrase_test`.\n",
    "* Veuillez afficher cette phrase, ainsi que son type dans spaCy."
   ]
  },
  {
   "cell_type": "code",
   "execution_count": 38,
   "metadata": {},
   "outputs": [],
   "source": [
    "from spacy.tokens import DocBin\n",
    "from spacy.tokens import Doc\n",
    "test_data = DocBin().from_disk(\"./spacy_data/fr-ud-test.spacy\")\n",
    "\n",
    "# Exemple d'utilisation (afficher toutes les phrases)\n",
    "# for doc in test_data.get_docs(nlp.vocab): \n",
    "#     for sent in doc.sents:\n",
    "#         print(sent)\n"
   ]
  },
  {
   "cell_type": "markdown",
   "metadata": {},
   "source": []
  },
  {
   "cell_type": "code",
   "execution_count": 39,
   "metadata": {},
   "outputs": [
    {
     "name": "stdout",
     "output_type": "stream",
     "text": [
      "<class 'spacy.tokens.span.Span'>\n",
      "Je sens qu'entre ça et les films de médecins et scientifiques fous que nous avons déjà vus, nous pourrions emprunter un autre chemin pour l'origine.\n"
     ]
    }
   ],
   "source": [
    "# Veuillez écrire votre code ici.\n",
    "premiere_phrase_test = next(next(test_data.get_docs(nlp.vocab)).sents)\n",
    "print(type(premiere_phrase_test))\n",
    "print(premiere_phrase_test)\n"
   ]
  },
  {
   "cell_type": "markdown",
   "metadata": {},
   "source": [
    "## 3. Évaluation du POS tagger français de la pipeline `fr_core_news_sm`"
   ]
  },
  {
   "cell_type": "markdown",
   "metadata": {},
   "source": [
    "**3a.** Veuillez effectuer le *POS tagging* avec spaCy de la `premiere_phrase_test` et afficher les résultats dans le format demandé au (1b).  Indication : convertissez la `premiere_phrase_test` dans un objet de type `Doc` en lui appliquant la méthode `.as_doc()`.  Cet objet peut être ensuite traité par la pipeline `nlp`."
   ]
  },
  {
   "cell_type": "code",
   "execution_count": 40,
   "metadata": {},
   "outputs": [
    {
     "name": "stdout",
     "output_type": "stream",
     "text": [
      "Je [PRON]\n",
      "sens [VERB]\n",
      "qu' [SCONJ]\n",
      "entre [ADP]\n",
      "ça [PRON]\n",
      "et [CCONJ]\n",
      "les [DET]\n",
      "films [NOUN]\n",
      "de [ADP]\n",
      "médecins [NOUN]\n",
      "et [CCONJ]\n",
      "scientifiques [ADJ]\n",
      "fous [ADJ]\n",
      "que [SCONJ]\n",
      "nous [PRON]\n",
      "avons [AUX]\n",
      "déjà [ADV]\n",
      "vus [ADJ]\n",
      ", [PUNCT]\n",
      "nous [PRON]\n",
      "pourrions [VERB]\n",
      "emprunter [VERB]\n",
      "un [DET]\n",
      "autre [ADJ]\n",
      "chemin [NOUN]\n",
      "pour [ADP]\n",
      "l' [DET]\n",
      "origine [NOUN]\n",
      ". [PUNCT]\n"
     ]
    }
   ],
   "source": [
    "# Veuillez écrire votre code ici.\n",
    "doc = nlp(premiere_phrase_test.as_doc())\n",
    "for token in doc:\n",
    "    print(token.text + \" [\" + token.pos_ + \"]\")"
   ]
  },
  {
   "cell_type": "markdown",
   "metadata": {},
   "source": [
    "**3b.** Veuillez afficher les tags corrects de `premiere_phrase_test`, puis comparez-les visuellement les tags trouvés automatiquement au (3a).  Quelles différences trouvez-vous ?"
   ]
  },
  {
   "cell_type": "code",
   "execution_count": 11,
   "metadata": {},
   "outputs": [
    {
     "name": "stdout",
     "output_type": "stream",
     "text": [
      "Je [PRON]\n",
      "sens [VERB]\n",
      "qu' [SCONJ]\n",
      "entre [ADP]\n",
      "ça [PRON]\n",
      "et [CCONJ]\n",
      "les [DET]\n",
      "films [NOUN]\n",
      "de [ADP]\n",
      "médecins [NOUN]\n",
      "et [CCONJ]\n",
      "scientifiques [NOUN]\n",
      "fous [ADJ]\n",
      "que [PRON]\n",
      "nous [PRON]\n",
      "avons [AUX]\n",
      "déjà [ADV]\n",
      "vus [VERB]\n",
      ", [PUNCT]\n",
      "nous [PRON]\n",
      "pourrions [VERB]\n",
      "emprunter [VERB]\n",
      "un [DET]\n",
      "autre [ADJ]\n",
      "chemin [NOUN]\n",
      "pour [ADP]\n",
      "l' [DET]\n",
      "origine [NOUN]\n",
      ". [PUNCT]\n"
     ]
    }
   ],
   "source": [
    "for token in premiere_phrase_test.as_doc():\n",
    "    print(token.text + \" [\" + token.pos_ + \"]\")\n",
    "\n",
    "\n",
    "# Il y a 3 erreurs de POS tagging par rapport aux tags correct\n",
    "# vus est un verbe et non un adjectif\n",
    "# scentifiques est un nom et non un adjectif\n",
    "# que est une conjonction de subordination et non un pronom"
   ]
  },
  {
   "cell_type": "code",
   "execution_count": 15,
   "metadata": {},
   "outputs": [],
   "source": [
    "from spacy.scorer import Scorer\n",
    "from spacy.training import Example"
   ]
  },
  {
   "cell_type": "code",
   "execution_count": 16,
   "metadata": {},
   "outputs": [],
   "source": [
    "scorer = Scorer()"
   ]
  },
  {
   "cell_type": "markdown",
   "metadata": {},
   "source": [
    "**3c.** Au lieu de compter manuellement combien de tags sont différents entre la référence et le résultat de la pipeline `nlp`, vous allez utiliser la classe `Scorer` de spaCy.  Une instance de cette classe permet de calculer les scores d'une liste d'objets de type `Exemple`, en fonction des annotations disponibles dans les objets.  Un objet de type `Exemple` contient deux objets de type `Doc`, l'un avec les annotations correctes et l'autre avec les annotations produites par une pipeline.  La [documentation de la méthode](https://spacy.io/api/scorer#score) `Scorer.score(..)` vous sera utile. \n",
    "\n",
    "* Veuillez calculer la justesse (*accuracy*) du *POS tagging* de `premiere_phrase_test`. \n",
    "* Veuillez justifier la valeur du score obtenu en utilisant votre réponse du (3b)."
   ]
  },
  {
   "cell_type": "code",
   "execution_count": 55,
   "metadata": {},
   "outputs": [
    {
     "name": "stdout",
     "output_type": "stream",
     "text": [
      "POS accuracy :  0.896551724137931\n"
     ]
    }
   ],
   "source": [
    "ref_doc = premiere_phrase_test.as_doc()\n",
    "true_doc = nlp(premiere_phrase_test.as_doc()) \n",
    "example = Example(ref_doc, true_doc)\n",
    "score = scorer.score([example])\n",
    "print(\"POS accuracy : \",score.get(\"pos_acc\"))\n",
    "\n",
    "# 3 erreurs sur 29 mots donc l'accuracy est de (29 - 3)/29 = 0.896551724137931 conmme le resultat obtenu  par le scorer"
   ]
  },
  {
   "cell_type": "markdown",
   "metadata": {},
   "source": [
    "**3d.** Veuillez calculer la précision du *POS tagging* de la pipeline `nlp` sur toutes les données de test présentes dans `test_data`.  Comment se compare le score obtenu avec celui mentionné [dans la documentation](https://spacy.io/models/fr#fr_core_news_sm) du modèle `fr_core_news_sm` ?"
   ]
  },
  {
   "cell_type": "code",
   "execution_count": 16,
   "metadata": {},
   "outputs": [
    {
     "name": "stdout",
     "output_type": "stream",
     "text": [
      "POS tagging accuracy:  0.919061876247505\n"
     ]
    }
   ],
   "source": [
    "# Veuillez écrire votre code ici, suivi de votre réponse à la question.\n",
    "ref_docs = test_data.get_docs(nlp.vocab)\n",
    "true_docs = []\n",
    "exemples = []\n",
    "for doc in test_data.get_docs(nlp.vocab):\n",
    "    true_docs.append(nlp(doc))\n",
    "\n",
    "for ref_doc, true_doc in zip(ref_docs, true_docs):\n",
    "    exemple = Example(ref_doc, true_doc)\n",
    "    exemples.append(exemple)\n",
    "    \n",
    "score = scorer.score(exemples)\n",
    "print(\"POS tagging accuracy: \",score.get(\"pos_acc\"))\n"
   ]
  },
  {
   "cell_type": "code",
   "execution_count": null,
   "metadata": {},
   "outputs": [],
   "source": [
    "# Le pos tagging est moins précis que mentionné dans la documentation de spacy.indiquee a 0.96"
   ]
  },
  {
   "cell_type": "markdown",
   "metadata": {},
   "source": [
    "## 4. Entraîner puis évaluer un nouveau POS tagger français dans spaCy\n",
    "\n",
    "Le but de cette partie est d'entraîner une pipeline spaCy pour le français sur les données de `fr-ud-train.conllu`, puis de comparer le modèle obtenu avec le modèle prêt-à-l'emploi testé au point précédent.  Les [instructions d'entraînement](https://spacy.io/usage/training#quickstart) de spaCy vous montrent comment entraîner une pipeline avec un POS tagger.\n",
    "\n",
    "**4a.** Paramétrage de l'entraînement :\n",
    "* générez un fichier de départ grâce à [l'interface web](https://spacy.io/usage/training#quickstart), en indiquant que vous voulez seulement un POS tagger dans la pipeline ;\n",
    "* sauvegardez le code généré par spaCy dans un fichier local `base_config.cfg` ;\n",
    "* générez un fichier `config.cfg` sur votre ordinateur en exécutant la ligne de commande suivante. "
   ]
  },
  {
   "cell_type": "code",
   "execution_count": 2,
   "metadata": {},
   "outputs": [
    {
     "name": "stdout",
     "output_type": "stream",
     "text": [
      "\u001b[38;5;2m✔ Auto-filled config with all values\u001b[0m\n",
      "\u001b[38;5;2m✔ Saved config\u001b[0m\n",
      "config.cfg\n",
      "You can now add your data and train your pipeline:\n",
      "python -m spacy train config.cfg --paths.train ./train.spacy --paths.dev ./dev.spacy\n"
     ]
    },
    {
     "name": "stderr",
     "output_type": "stream",
     "text": [
      "c:\\Python310\\lib\\site-packages\\cupy\\_environment.py:216: UserWarning: CUDA path could not be detected. Set CUDA_PATH environment variable if CuPy fails to load.\n",
      "  warnings.warn(\n",
      "c:\\Python310\\lib\\site-packages\\cupy\\_environment.py:216: UserWarning: CUDA path could not be detected. Set CUDA_PATH environment variable if CuPy fails to load.\n",
      "  warnings.warn(\n",
      "c:\\Python310\\lib\\site-packages\\cupy\\_environment.py:216: UserWarning: CUDA path could not be detected. Set CUDA_PATH environment variable if CuPy fails to load.\n",
      "  warnings.warn(\n",
      "c:\\Python310\\lib\\site-packages\\cupy\\_environment.py:216: UserWarning: CUDA path could not be detected. Set CUDA_PATH environment variable if CuPy fails to load.\n",
      "  warnings.warn(\n",
      "c:\\Python310\\lib\\site-packages\\transformers\\utils\\generic.py:441: UserWarning: torch.utils._pytree._register_pytree_node is deprecated. Please use torch.utils._pytree.register_pytree_node instead.\n",
      "  _torch_pytree._register_pytree_node(\n",
      "c:\\Python310\\lib\\site-packages\\transformers\\utils\\generic.py:309: UserWarning: torch.utils._pytree._register_pytree_node is deprecated. Please use torch.utils._pytree.register_pytree_node instead.\n",
      "  _torch_pytree._register_pytree_node(\n"
     ]
    }
   ],
   "source": [
    "!python -m spacy init fill-config base_config.cfg config.cfg"
   ]
  },
  {
   "cell_type": "markdown",
   "metadata": {},
   "source": [
    "Enfin, veuillez effectuer l'entraînement avec la ligne de commande suivante.  Faites plusieurs essais, d'abord avec un petit nombre d'époques, pour estimer le temps nécessaire et observer les messages affichés.  Puis augmentez progressivement le nombre d'époques.  Quel est le critère qui vous permet de décider que vous avez un nombre suffisant d'époques ?  Dans quel dossier se trouve le meilleur modèle ?"
   ]
  },
  {
   "cell_type": "code",
   "execution_count": 3,
   "metadata": {},
   "outputs": [
    {
     "name": "stdout",
     "output_type": "stream",
     "text": [
      "\u001b[38;5;4mℹ Saving to output directory: myPOStagger1\u001b[0m\n",
      "\u001b[38;5;4mℹ Using CPU\u001b[0m\n",
      "\u001b[1m\n",
      "=========================== Initializing pipeline ===========================\u001b[0m\n",
      "\u001b[38;5;2m✔ Initialized pipeline\u001b[0m\n",
      "\u001b[1m\n",
      "============================= Training pipeline =============================\u001b[0m\n",
      "\u001b[38;5;4mℹ Pipeline: ['tok2vec', 'tagger']\u001b[0m\n",
      "\u001b[38;5;4mℹ Initial learn rate: 0.001\u001b[0m\n",
      "E    #       LOSS TOK2VEC  LOSS TAGGER  TAG_ACC  SCORE \n",
      "---  ------  ------------  -----------  -------  ------\n",
      "  0       0          0.00       211.77    36.34    0.36\n",
      "  0     200        315.96     10403.17    90.36    0.90\n",
      "  0     400        287.45      4496.17    91.62    0.92\n",
      "  0     600        223.10      3449.18    92.17    0.92\n",
      "  0     800        216.83      3458.35    92.55    0.93\n",
      "  0    1000        192.05      3030.81    92.62    0.93\n",
      "  0    1200        185.09      2922.23    92.96    0.93\n",
      "  0    1400        172.84      2749.04    92.98    0.93\n",
      "  1    1600        147.28      2230.07    93.11    0.93\n",
      "  1    1800        138.32      2029.00    93.12    0.93\n",
      "  1    2000        155.07      2294.50    93.18    0.93\n",
      "  1    2200        144.89      2145.05    93.30    0.93\n",
      "  1    2400        145.82      2132.37    93.26    0.93\n",
      "  1    2600        149.43      2169.59    93.28    0.93\n",
      "  1    2800        152.79      2200.83    93.41    0.93\n",
      "  2    3000        132.99      1853.46    93.33    0.93\n",
      "  2    3200        120.85      1584.79    93.23    0.93\n",
      "  2    3400        134.05      1742.55    93.51    0.94\n",
      "  2    3600        128.47      1632.46    93.52    0.94\n",
      "  2    3800        126.12      1586.33    93.43    0.93\n",
      "  2    4000        132.55      1694.30    93.49    0.93\n",
      "  2    4200        140.97      1755.24    93.48    0.93\n",
      "  3    4400        139.11      1687.01    93.55    0.94\n",
      "  3    4600         99.66      1161.66    93.52    0.94\n",
      "  3    4800        112.63      1283.74    93.53    0.94\n",
      "  3    5000        124.49      1427.55    93.52    0.94\n",
      "  3    5200        120.60      1366.04    93.57    0.94\n",
      "  3    5400        125.39      1433.67    93.48    0.93\n",
      "  3    5600        123.23      1393.55    93.62    0.94\n",
      "  3    5800        129.08      1439.31    93.61    0.94\n",
      "\u001b[38;5;2m✔ Saved pipeline to output directory\u001b[0m\n",
      "myPOStagger1\\model-last\n"
     ]
    },
    {
     "name": "stderr",
     "output_type": "stream",
     "text": [
      "c:\\Python310\\lib\\site-packages\\cupy\\_environment.py:216: UserWarning: CUDA path could not be detected. Set CUDA_PATH environment variable if CuPy fails to load.\n",
      "  warnings.warn(\n",
      "c:\\Python310\\lib\\site-packages\\cupy\\_environment.py:216: UserWarning: CUDA path could not be detected. Set CUDA_PATH environment variable if CuPy fails to load.\n",
      "  warnings.warn(\n",
      "c:\\Python310\\lib\\site-packages\\cupy\\_environment.py:216: UserWarning: CUDA path could not be detected. Set CUDA_PATH environment variable if CuPy fails to load.\n",
      "  warnings.warn(\n",
      "c:\\Python310\\lib\\site-packages\\cupy\\_environment.py:216: UserWarning: CUDA path could not be detected. Set CUDA_PATH environment variable if CuPy fails to load.\n",
      "  warnings.warn(\n",
      "c:\\Python310\\lib\\site-packages\\transformers\\utils\\generic.py:441: UserWarning: torch.utils._pytree._register_pytree_node is deprecated. Please use torch.utils._pytree.register_pytree_node instead.\n",
      "  _torch_pytree._register_pytree_node(\n",
      "[2024-03-21 17:07:46,468] [DEBUG] Config overrides from CLI: ['paths.train', 'paths.dev']\n",
      "c:\\Python310\\lib\\site-packages\\transformers\\utils\\generic.py:309: UserWarning: torch.utils._pytree._register_pytree_node is deprecated. Please use torch.utils._pytree.register_pytree_node instead.\n",
      "  _torch_pytree._register_pytree_node(\n",
      "[2024-03-21 17:07:51,004] [INFO] Set up nlp object from config\n",
      "[2024-03-21 17:07:51,025] [DEBUG] Loading corpus from path: spacy_data\\fr-ud-dev.spacy\n",
      "[2024-03-21 17:07:51,027] [DEBUG] Loading corpus from path: spacy_data\\fr-ud-train.spacy\n",
      "[2024-03-21 17:07:51,027] [INFO] Pipeline: ['tok2vec', 'tagger']\n",
      "[2024-03-21 17:07:51,033] [INFO] Created vocabulary\n",
      "[2024-03-21 17:07:51,033] [INFO] Finished initializing nlp object\n",
      "[2024-03-21 17:08:06,183] [INFO] Initialized pipeline components: ['tok2vec', 'tagger']\n",
      "[2024-03-21 17:08:06,204] [DEBUG] Loading corpus from path: spacy_data\\fr-ud-dev.spacy\n",
      "[2024-03-21 17:08:06,206] [DEBUG] Loading corpus from path: spacy_data\\fr-ud-train.spacy\n",
      "[2024-03-21 17:08:06,294] [DEBUG] Removed existing output directory: myPOStagger1\\model-best\n",
      "[2024-03-21 17:08:06,344] [DEBUG] Removed existing output directory: myPOStagger1\\model-last\n"
     ]
    }
   ],
   "source": [
    "!python -m spacy train config.cfg --output ./myPOStagger1 --paths.train ./spacy_data/fr-ud-train.spacy --paths.dev ./spacy_data/fr-ud-dev.spacy --verbose"
   ]
  },
  {
   "cell_type": "code",
   "execution_count": null,
   "metadata": {},
   "outputs": [],
   "source": [
    "# Veuillez indiquer ici le nombre d'époques final et la réponse à la question.\n",
    "# Le meilleur model se trouve dans le dossier myPOStagger1/model-best\n",
    "# Le critere de selection du meilleur model est l'accuracy du POS tagging et le score. \n",
    "# Nous arretons l'entrainement lorsque l'accuracy du POS tagging sur le set de validation ne s'ameliorera \n",
    "# plus pour eviter l'overfitting. Nous avons choisi 4 epoques pour l'entrainement a ce stade."
   ]
  },
  {
   "cell_type": "markdown",
   "metadata": {},
   "source": [
    "**4b.**  Veuillez charger le meilleur modèle (pipeline) dans la variable `nlp2` et afficher la *POS tagging accuracy* sur le corpus de test.  Le composant de la pipeline étant un *POS tagger*, vous devrez évaluer la propriété *tag_acc*. "
   ]
  },
  {
   "cell_type": "code",
   "execution_count": 68,
   "metadata": {},
   "outputs": [
    {
     "name": "stdout",
     "output_type": "stream",
     "text": [
      "tag accuracy :  0.8768024285352897\n"
     ]
    }
   ],
   "source": [
    "# Veuillez écrire votre code ici.\n",
    "# Veuillez charger le meilleur modèle (pipeline) dans la variable `nlp2` et afficher la *POS tagging accuracy* sur le corpus de test.  Le composant de la pipeline étant un *POS tagger*, vous devrez évaluer la propriété *tag_acc*. \n",
    "\n",
    "# Chagement du model\n",
    "nlp2 = spacy.load(\"./myPOStagger1/model-best\")\n",
    "\n",
    "# Chargement du test data\n",
    "test_data_path = \"./spacy_data/fr-ud-test.spacy\"\n",
    "test_docs = list(DocBin().from_disk(test_data_path).get_docs(nlp2.vocab))\n",
    "\n",
    "scorer = Scorer()\n",
    "examples = []\n",
    "\n",
    "# Prediction des tags pour chaque document\n",
    "for doc in test_docs:\n",
    "    doc_pred = nlp(doc.text)\n",
    "    example = Example(doc, doc_pred)\n",
    "    examples.append(example)\n",
    "\n",
    "score = scorer.score(examples)\n",
    "print(\"tag accuracy : \",score.get(\"tag_acc\"))\n",
    "\n"
   ]
  },
  {
   "cell_type": "markdown",
   "metadata": {},
   "source": [
    "## 5. Entraîner puis évaluer un POS tagger pour le français dans NLTK\n",
    "\n",
    "Le but de cette partie est d'utiliser le POS tagger appelé *Averaged Perceptron* fourni par NLTK, en l'entraînant pour le français sur les mêmes données que ci-dessus, importées cette fois-ci avec NLTK.  Pour une introduction au POS tagging avec NLTK, voir le [Chapitre 5.1 du livre NLTK](http://www.nltk.org/book/ch05.html).\n",
    "\n",
    "Remarques :\n",
    "* pour l'anglais, des taggers pré-entraînés sont disponibles dans NLTK ;\n",
    "* pour appliquer un tagger existant, on écrit `nltk.pos_tag(sentence)` où `sentence` est une liste de tokens et on obtient des paires (token, TAG) ;\n",
    "* l'implémentation de *Averaged Perceptron* a été faite par [Mathew Honnibal de Explosion.AI](https://explosion.ai/blog/part-of-speech-pos-tagger-in-python), la société qui a créé spaCy."
   ]
  },
  {
   "cell_type": "markdown",
   "metadata": {},
   "source": [
    "**5a.** Veuillez charger les données d'entraînement et celles de test grâce à la classe `ConllCorpusReader` de NLTK.  [La documentation de cette classe](https://www.nltk.org/api/nltk.corpus.reader.conll.html#nltk.corpus.reader.conll.ConllCorpusReader) vous montrera comment indiquer les colonnes qui contiennent les tokens ('words') et les tags corrects ('pos').  Une fois les données chargées dans une variable, vous pouvez accéder aux phrases et aux tags avec la méthode `.tagged_sents()`."
   ]
  },
  {
   "cell_type": "code",
   "execution_count": 3,
   "metadata": {},
   "outputs": [],
   "source": [
    "from nltk.corpus.reader.conll import ConllCorpusReader"
   ]
  },
  {
   "cell_type": "code",
   "execution_count": 11,
   "metadata": {},
   "outputs": [
    {
     "data": {
      "text/plain": [
       "[('Les', 'DET'), ('commotions', 'NOUN'), ...]"
      ]
     },
     "execution_count": 11,
     "metadata": {},
     "output_type": "execute_result"
    }
   ],
   "source": [
    "# Veuillez écrire votre code ici.\n",
    "train_corpus = ConllCorpusReader(\"./input_data\", 'fr-ud-train.conllu', separator=\"\t\", columntypes=('ignore', 'words', 'ignore', 'pos', 'ignore', 'ignore', 'ignore', 'ignore', 'ignore', 'ignore'))\n",
    "dev_corpus = ConllCorpusReader(\"./input_data\", 'fr-ud-dev.conllu', separator=\"\t\", columntypes=('ignore', 'words', 'ignore', 'pos', 'ignore', 'ignore', 'ignore', 'ignore', 'ignore', 'ignore'))\n",
    "test_corpus = ConllCorpusReader(\"./input_data\", 'fr-ud-test.conllu',separator=\"\t\", columntypes=('ignore', 'words', 'ignore', 'pos', 'ignore', 'ignore', 'ignore', 'ignore', 'ignore', 'ignore'))\n",
    "\n",
    "\n",
    "train_corpus.tagged_words()"
   ]
  },
  {
   "cell_type": "markdown",
   "metadata": {},
   "source": [
    "**5b.** Pour entraîner un POS tagger du type Averaged Perceptron, vous utiliserez le sous-module `nltk.tag.perceptron` du [module NLTK contenant les taggers](http://www.nltk.org/api/nltk.tag.html).  Les fonctions d'entraînement et de test sont documentées dans ce module.  Après l'entraînement, le réseau de neurones est enregistré dans un fichier `.pickle`, qui est écrasé à chaque entraînement si vous n'en faites pas une copie.  On peut également lire un fichier `.pickle` dans un tagger.\n",
    "\n",
    "Veuillez écrire le code pour entraîner le POS tagger sur les données d'entraînement.  Comme au (4), pensez augmenter graduellement le nombre d'époques (appelées 'itérations' dans NLTK).\n",
    "\n",
    "Combien de temps prend l'entraînement ?  Quelle est la taille du fichier enregistré ?"
   ]
  },
  {
   "cell_type": "code",
   "execution_count": 14,
   "metadata": {},
   "outputs": [],
   "source": [
    "import os\n",
    "# import nltk\n",
    "# nltk.download('averaged_perceptron_tagger') # à exécuter la première fois\n",
    "from nltk.tag.perceptron import PerceptronTagger"
   ]
  },
  {
   "cell_type": "code",
   "execution_count": 15,
   "metadata": {},
   "outputs": [],
   "source": [
    "ptagger = PerceptronTagger(load=False)"
   ]
  },
  {
   "cell_type": "code",
   "execution_count": 20,
   "metadata": {},
   "outputs": [
    {
     "name": "stdout",
     "output_type": "stream",
     "text": [
      "<class 'nltk.collections.LazyMap'>\n"
     ]
    }
   ],
   "source": [
    "# Veuillez écrire votre code \n",
    "print(type(train_corpus.tagged_sents()))\n",
    "\n",
    "# train with 4 epochs\n",
    "ptagger.train(sentences=train_corpus.tagged_sents(), save_loc=\"model.pickle\", nr_iter=4)       \n"
   ]
  },
  {
   "cell_type": "code",
   "execution_count": 21,
   "metadata": {},
   "outputs": [],
   "source": [
    "# Veuillez écrire ici vos réponses aux questions (temps d'entraînement et taille du modèle).\n",
    "#Le temps d'entrainement est de +- 30 secondes avec 4 epochs\n",
    "# La taille du modèle est de 7.8 KB"
   ]
  },
  {
   "cell_type": "markdown",
   "metadata": {},
   "source": [
    "**5c.** Veuillez évaluer le tagger sur les données de test et afficher le taux de correction."
   ]
  },
  {
   "cell_type": "code",
   "execution_count": 25,
   "metadata": {},
   "outputs": [
    {
     "name": "stdout",
     "output_type": "stream",
     "text": [
      "Errors / tagged:  411  /  10299\n",
      "POS tagging accuracy:  0.9600932129332945\n"
     ]
    }
   ],
   "source": [
    "# Veuillez écrire votre code ici.\n",
    "\n",
    "error_count = 0\n",
    "count = 1\n",
    "for sent in test_corpus.tagged_sents():\n",
    "    tagged_sent = ptagger.tag([word for word, tag in sent])\n",
    "    for i in range(len(sent)):\n",
    "        count += 1\n",
    "        if tagged_sent[i][1] != sent[i][1]:\n",
    "            # print(\"Erreur : \", sent[i], \" prédit : \", tagged_sent[i])\n",
    "            error_count += 1\n",
    "\n",
    "print(\"Errors / tagged: \",  error_count,\" / \", count)\n",
    "print(\"POS tagging accuracy: \", 1 - error_count/count)\n"
   ]
  },
  {
   "cell_type": "markdown",
   "metadata": {},
   "source": [
    "## 6. Conclusion\n",
    "Veuillez remplir le tableau suivant avec les scores obtenus et discuter brièvement comment se comparent les trois POS taggers sur ces données de test.\n",
    "\n",
    "| spaCy (partie 3) | spaCy (partie 4) | NLTK (partie 5) | \n",
    "|------------------|------------------|-----------------|\n",
    "| tagger fourni    | tagger entraîné  | tagger entraîné |\n",
    "| 0.91              | 0.87              | 0.96             |\n"
   ]
  },
  {
   "cell_type": "markdown",
   "metadata": {},
   "source": [
    "**Fin du Labo.** Veuillez nettoyer ce notebook en gardant seulement les résultats désirés, l'enregistrer, et le soumettre comme devoir sur Cyberlearn."
   ]
  }
 ],
 "metadata": {
  "kernelspec": {
   "display_name": "Python 3",
   "language": "python",
   "name": "python3"
  },
  "language_info": {
   "codemirror_mode": {
    "name": "ipython",
    "version": 3
   },
   "file_extension": ".py",
   "mimetype": "text/x-python",
   "name": "python",
   "nbconvert_exporter": "python",
   "pygments_lexer": "ipython3",
   "version": "3.10.7"
  }
 },
 "nbformat": 4,
 "nbformat_minor": 4
}
